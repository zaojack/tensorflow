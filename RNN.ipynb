{
  "nbformat": 4,
  "nbformat_minor": 0,
  "metadata": {
    "colab": {
      "name": "RNN.ipynb",
      "version": "0.3.2",
      "provenance": [],
      "include_colab_link": true
    },
    "kernelspec": {
      "name": "python2",
      "display_name": "Python 2"
    }
  },
  "cells": [
    {
      "cell_type": "markdown",
      "metadata": {
        "id": "view-in-github",
        "colab_type": "text"
      },
      "source": [
        "[View in Colaboratory](https://colab.research.google.com/github/zaojack/tensorflow/blob/master/RNN.ipynb)"
      ]
    },
    {
      "metadata": {
        "id": "JOdLd02WYAw2",
        "colab_type": "code",
        "colab": {
          "base_uri": "https://localhost:8080/",
          "height": 944
        },
        "outputId": "608371b5-605c-455c-d8b8-8cb600b24190"
      },
      "cell_type": "code",
      "source": [
        "import tensorflow as tf\n",
        "from tensorflow.examples.tutorials.mnist import input_data\n",
        "mnist=input_data.read_data_sets('MNIST_data',one_hot=True)\n",
        "\n",
        "sess=tf.InteractiveSession()\n",
        "\n",
        "lr=0.001\n",
        "training_iters=100000\n",
        "batch_size=128\n",
        "\n",
        "n_inputs=28\n",
        "n_steps=28\n",
        "n_hidden_units=128\n",
        "n_classes=10\n",
        "\n",
        "x=tf.placeholder(tf.float32,[None,n_steps,n_inputs])\n",
        "y=tf.placeholder(tf.float32,[None,n_classes])\n",
        "\n",
        "#define Weights\n",
        "weights={\n",
        "    'in':tf.Variable(tf.random_normal([n_inputs,n_hidden_units])),\n",
        "\n",
        "    'out':tf.Variable(tf.random_normal([n_hidden_units,n_classes]))\n",
        "}\n",
        "biases={\n",
        "    'in':tf.Variable(tf.constant(0.1,shape=[n_hidden_units])),\n",
        "    'out':tf.Variable(tf.constant(0.1,shape=[n_classes]))\n",
        "}\n",
        "\n",
        "def RNN(X,weights,biases):\n",
        "    #hidden layer for input sell\n",
        "    X=tf.reshape(X,[-1,n_inputs])\n",
        "\n",
        "    X_in=tf.matmul(X,weights['in'])+biases['in']\n",
        "\n",
        "    X_in=tf.reshape(X_in,[-1,n_steps,n_hidden_units])\n",
        "\n",
        "    #cell\n",
        "    lstm_cell=tf.nn.rnn_cell.BasicLSTMCell(n_hidden_units,forget_bias=1.0,state_is_tuple=True)\n",
        "    #lstm cell is divided into two parts(c_state,m-state)\n",
        "    _init_state=lstm_cell.zero_state(batch_size,tf.float32)\n",
        "\n",
        "    outputs,states=tf.nn.dynamic_rnn(lstm_cell,X_in,initial_state=_init_state,time_major=False)\n",
        "\n",
        "    #\n",
        "    #hidden layer for output\n",
        "    results=tf.matmul(states[1],weights['out'])+biases['out']\n",
        "    return results\n",
        "\n",
        "    #state[1]->m_state\n",
        "\n",
        "pred=RNN(x,weights,biases)\n",
        "\n",
        "cost=tf.reduce_mean(tf.nn.softmax_cross_entropy_with_logits(labels=y,logits=pred))\n",
        "train_op=tf.train.AdamOptimizer(lr).minimize(cost)\n",
        "\n",
        "correct_pred=tf.equal(tf.argmax(pred,1),tf.argmax(y,1))\n",
        "accuracy=tf.reduce_mean(tf.cast(correct_pred,tf.float32))\n",
        "\n",
        "init=tf.global_variables_initializer()\n",
        "sess.run(init)\n",
        "\n",
        "step=0\n",
        "while step*batch_size<training_iters:\n",
        "    batch_xs,batch_ys=mnist.train.next_batch(batch_size)\n",
        "    batch_xs=batch_xs.reshape([batch_size,n_steps,n_inputs])\n",
        "\n",
        "    sess.run([train_op],feed_dict={x:batch_xs,y:batch_ys})\n",
        "    if step%20==0:\n",
        "        print sess.run(accuracy,feed_dict={x:batch_xs,y:batch_ys})\n",
        "    step+=1\n"
      ],
      "execution_count": 2,
      "outputs": [
        {
          "output_type": "stream",
          "text": [
            "Extracting MNIST_data/train-images-idx3-ubyte.gz\n",
            "Extracting MNIST_data/train-labels-idx1-ubyte.gz\n",
            "Extracting MNIST_data/t10k-images-idx3-ubyte.gz\n",
            "Extracting MNIST_data/t10k-labels-idx1-ubyte.gz\n",
            "WARNING:tensorflow:From <ipython-input-2-c594ab3d3d24>:54: softmax_cross_entropy_with_logits (from tensorflow.python.ops.nn_ops) is deprecated and will be removed in a future version.\n",
            "Instructions for updating:\n",
            "\n",
            "Future major versions of TensorFlow will allow gradients to flow\n",
            "into the labels input on backprop by default.\n",
            "\n",
            "See @{tf.nn.softmax_cross_entropy_with_logits_v2}.\n",
            "\n"
          ],
          "name": "stdout"
        },
        {
          "output_type": "stream",
          "text": [
            "/usr/local/lib/python2.7/dist-packages/tensorflow/python/client/session.py:1645: UserWarning: An interactive session is already active. This can cause out-of-memory errors in some cases. You must explicitly call `InteractiveSession.close()` to release resources held by the other session(s).\n",
            "  warnings.warn('An interactive session is already active. This can '\n"
          ],
          "name": "stderr"
        },
        {
          "output_type": "stream",
          "text": [
            "0.2109375\n",
            "0.6796875\n",
            "0.734375\n",
            "0.828125\n",
            "0.8515625\n",
            "0.828125\n",
            "0.828125\n",
            "0.859375\n",
            "0.921875\n",
            "0.8515625\n",
            "0.8984375\n",
            "0.921875\n",
            "0.921875\n",
            "0.9453125\n",
            "0.921875\n",
            "0.9296875\n",
            "0.9453125\n",
            "0.9296875\n",
            "0.9375\n",
            "0.921875\n",
            "0.9765625\n",
            "0.8828125\n",
            "0.9609375\n",
            "0.953125\n",
            "0.9765625\n",
            "0.984375\n",
            "0.984375\n",
            "0.9609375\n",
            "0.9375\n",
            "0.9609375\n",
            "0.9140625\n",
            "0.9765625\n",
            "0.9609375\n",
            "0.96875\n",
            "0.9765625\n",
            "0.96875\n",
            "0.9921875\n",
            "0.953125\n",
            "0.984375\n",
            "0.9765625\n"
          ],
          "name": "stdout"
        }
      ]
    }
  ]
}