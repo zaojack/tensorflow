{
  "nbformat": 4,
  "nbformat_minor": 0,
  "metadata": {
    "colab": {
      "name": "tensor0.ipynb",
      "version": "0.3.2",
      "provenance": [],
      "include_colab_link": true
    },
    "kernelspec": {
      "name": "python2",
      "display_name": "Python 2"
    }
  },
  "cells": [
    {
      "cell_type": "markdown",
      "metadata": {
        "id": "view-in-github",
        "colab_type": "text"
      },
      "source": [
        "[View in Colaboratory](https://colab.research.google.com/github/zaojack/tensorflow/blob/master/tensor0.ipynb)"
      ]
    },
    {
      "metadata": {
        "id": "0PSZRF5yp9JQ",
        "colab_type": "code",
        "colab": {
          "base_uri": "https://localhost:8080/",
          "height": 420
        },
        "outputId": "0c47a554-8d7f-4709-af99-f460c1c3d146"
      },
      "cell_type": "code",
      "source": [
        "import tensorflow as tf\n",
        "from tensorflow.examples.tutorials.mnist import input_data\n",
        "\n",
        "sess=tf.InteractiveSession()\n",
        "\n",
        "mnist=input_data.read_data_sets('MNIST_data',one_hot=True)\n",
        "\n",
        "x=tf.placeholder(tf.float32,[None,784])\n",
        "y_=tf.placeholder(tf.float32,[None,10])\n",
        "\n",
        "W=tf.Variable(tf.zeros([784,10]))\n",
        "b=tf.Variable(tf.zeros([10]))\n",
        "\n",
        "y=tf.nn.softmax(tf.matmul(x,W)+b)\n",
        "cross_entropy=-tf.reduce_sum(y_*tf.log(y))\n",
        "\n",
        "train_step=tf.train.GradientDescentOptimizer(0.01).minimize(cross_entropy)\n",
        "\n",
        "init=tf.global_variables_initializer()\n",
        "sess.run(init)\n",
        "for i in range(1000):\n",
        "  batch=mnist.train.next_batch(50)\n",
        "  sess.run(train_step,feed_dict={x: batch[0],y_: batch[1]})\n",
        "  if i%50==0:\n",
        "    correct_prediction=tf.equal(tf.argmax(y,1),tf.argmax(y_,1))\n",
        "    accuracy=tf.reduce_mean(tf.cast(correct_prediction,tf.float32))\n",
        "    result=sess.run(accuracy,feed_dict={x:mnist.test.images,y_:mnist.test.labels})\n",
        "    print result\n",
        "\n"
      ],
      "execution_count": 10,
      "outputs": [
        {
          "output_type": "stream",
          "text": [
            "Extracting MNIST_data/train-images-idx3-ubyte.gz\n",
            "Extracting MNIST_data/train-labels-idx1-ubyte.gz\n",
            "Extracting MNIST_data/t10k-images-idx3-ubyte.gz\n",
            "Extracting MNIST_data/t10k-labels-idx1-ubyte.gz\n",
            "0.1071\n",
            "0.8596\n",
            "0.8807\n",
            "0.8925\n",
            "0.8996\n",
            "0.8961\n",
            "0.9092\n",
            "0.891\n",
            "0.9058\n",
            "0.9026\n",
            "0.9087\n",
            "0.9156\n",
            "0.9146\n",
            "0.9096\n",
            "0.9102\n",
            "0.9127\n",
            "0.9142\n",
            "0.8812\n",
            "0.9052\n",
            "0.9125\n"
          ],
          "name": "stdout"
        }
      ]
    },
    {
      "metadata": {
        "id": "JV8MwzPvrGNX",
        "colab_type": "text"
      },
      "cell_type": "markdown",
      "source": [
        "# New Section"
      ]
    },
    {
      "metadata": {
        "id": "6Q53O9iNrHHD",
        "colab_type": "text"
      },
      "cell_type": "markdown",
      "source": [
        "# New Section"
      ]
    }
  ]
}